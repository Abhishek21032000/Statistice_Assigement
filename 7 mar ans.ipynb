{
 "cells": [
  {
   "cell_type": "code",
   "execution_count": null,
   "id": "08cb05dc-24ff-4968-a044-1a6adde0475a",
   "metadata": {},
   "outputs": [],
   "source": [
    "Q1. What are the three measures of central tendency?\n",
    "\n",
    "There are three measures of central tendency (i) Mean (ii) Median (iii) Mode"
   ]
  },
  {
   "cell_type": "code",
   "execution_count": null,
   "id": "d6c09d10-aed2-430a-af50-db352c8a79fd",
   "metadata": {},
   "outputs": [],
   "source": [
    "Q2. What is the difference between the mean, median, and mode? How are they used to measure the central tendency of a dataset?\n",
    "\n",
    "The mean, median, and mode are three measures of central tendency used to describe the typical value of a dataset. While they all provide an idea\n",
    "of where the data is centered, they differ in how they are calculated and what type of data they are best suited for.\n",
    "\n",
    "The mean is the most commonly used measure of central tendency and is the sum of all the values in the dataset divided by the total number of values\n",
    "\n",
    "The median is the middle value in a dataset when the values are arranged in numerical order\n",
    "\n",
    "The mode is useful for describing the most common value in a dataset, and it is best suited for datasets with discrete or categorical values"
   ]
  },
  {
   "cell_type": "code",
   "execution_count": null,
   "id": "d93d5a5e-0dee-4a2e-95f6-07f40251fef8",
   "metadata": {},
   "outputs": [],
   "source": [
    "Q3. Measure the three measures of central tendency for the given height data: \n",
    "    [178,177,176,177,178.2,178,175,179,180,175,178.9,176.2,177,172.5,178,176.5]\n",
    " =     "
   ]
  },
  {
   "cell_type": "code",
   "execution_count": null,
   "id": "dcd1c598-1914-4d6c-a6c5-ea8c653b2271",
   "metadata": {},
   "outputs": [],
   "source": [
    " df = [178,177,176,177,178.2,178,175,179,180,175,178.9,176.2,177,172.5,178,176.5] "
   ]
  },
  {
   "cell_type": "code",
   "execution_count": null,
   "id": "89998d1c-20a0-4cb2-8d0d-1fcc502f8b59",
   "metadata": {},
   "outputs": [],
   "source": [
    "import numpy as np\n",
    "np.mean(df)"
   ]
  },
  {
   "cell_type": "code",
   "execution_count": null,
   "id": "52aab1f9-262e-4bb8-ae14-32a54c41a26c",
   "metadata": {},
   "outputs": [],
   "source": [
    "np.median(df)"
   ]
  },
  {
   "cell_type": "code",
   "execution_count": null,
   "id": "fb930872-91e2-41b8-9827-0d29ff2ef2eb",
   "metadata": {},
   "outputs": [],
   "source": [
    "from scipy import stats\n",
    "stats.mode(df)"
   ]
  },
  {
   "cell_type": "code",
   "execution_count": null,
   "id": "ee8195f3-4fce-4adb-8ba7-ed75e3c4a52c",
   "metadata": {},
   "outputs": [],
   "source": [
    "Q4. Find the standard deviation for the given data:"
   ]
  },
  {
   "cell_type": "code",
   "execution_count": 2,
   "id": "1e5aaf24-60d3-46ce-9970-4f14a7185f15",
   "metadata": {},
   "outputs": [
    {
     "data": {
      "text/plain": [
       "1.7885814036548633"
      ]
     },
     "execution_count": 2,
     "metadata": {},
     "output_type": "execute_result"
    }
   ],
   "source": [
    "df2 = [178,177,176,177,178.2,178,175,179,180,175,178.9,176.2,177,172.5,178,176.5] \n",
    "\n",
    "import numpy as np\n",
    "np.std(df2)"
   ]
  },
  {
   "cell_type": "code",
   "execution_count": null,
   "id": "0a2208b8-41dd-4c6d-8d86-93b38a419b4b",
   "metadata": {},
   "outputs": [],
   "source": [
    "Q5. How are measures of dispersion such as range, variance, and standard deviation used to describe the spread of a dataset? Provide an example.\n",
    "\n",
    "Measures of dispersion are used to describe the spread of a dataset, indicating how far apart the data points are from each other. The three most \n",
    "common measures of dispersion are range, variance, and standard deviation.\n",
    "\n",
    "The range is the simplest measure of dispersion and is calculated as the difference between the maximum and minimum values in the dataset.\n",
    "\n",
    "Variance is a more precise measure of dispersion\n",
    "\n",
    "Standard deviation is the square root of the variance and is a widely used measure of dispersion."
   ]
  },
  {
   "cell_type": "code",
   "execution_count": null,
   "id": "a7bd2c9c-768c-426e-9399-ba83154a2291",
   "metadata": {},
   "outputs": [],
   "source": []
  },
  {
   "cell_type": "code",
   "execution_count": null,
   "id": "4fddc2e4-f41e-4314-8e3d-417694677966",
   "metadata": {},
   "outputs": [],
   "source": []
  },
  {
   "cell_type": "code",
   "execution_count": null,
   "id": "c6a086ac-2528-4192-b0ed-38ae5fc46fc2",
   "metadata": {},
   "outputs": [],
   "source": [
    "Q6. What is a Venn diagram?\n",
    "\n",
    "A Venn diagram is a graphical representation of the relationships between different sets of data or objects.\n",
    "\n"
   ]
  },
  {
   "cell_type": "code",
   "execution_count": null,
   "id": "8ceb71bb-2e0d-4cff-b514-4fa54556f60e",
   "metadata": {},
   "outputs": [],
   "source": [
    "Q7. For the two given sets A = (2,3,4,5,6,7) & B = (0,2,6,8,10). Find:\n",
    "\n",
    "AB = (2,6) A U B = (0,2,3,4,5,6,7,8,10)"
   ]
  },
  {
   "cell_type": "code",
   "execution_count": null,
   "id": "a1963a2b-8575-4825-b314-e13dc4ce8861",
   "metadata": {},
   "outputs": [],
   "source": [
    "Q8. What do you understand about skewness in data?\n",
    "\n",
    "Skewness in data refers to the degree of asymmetry or lack of symmetry in the distribution of data points. It indicates whether the data is skewed\n",
    "towards one end or the other, or if it is distributed evenly."
   ]
  },
  {
   "cell_type": "code",
   "execution_count": null,
   "id": "1d0e7d3a-1ccb-46c8-b762-e13b525cd384",
   "metadata": {},
   "outputs": [],
   "source": [
    "Q9. If a data is right skewed then what will be the position of median with respect to mean?\n",
    "\n",
    "If a dataset is right-skewed, it means that the tail of the distribution is longer on the right side, and the majority of the data is clustered \n",
    "towards the left side. In such cases, the mean is pulled towards the longer tail on the right side and is therefore greater than the median."
   ]
  },
  {
   "cell_type": "code",
   "execution_count": null,
   "id": "a4b3d4a9-bf2c-404a-bae2-17a41af12387",
   "metadata": {},
   "outputs": [],
   "source": [
    "Q10. Explain the difference between covariance and correlation. How are these measures used in statistical analysis?\n",
    "\n",
    "Both covariance and correlation are used in statistical analysis to examine relationships between variables. They can help us to identify patterns\n",
    "and trends in the data and to make predictions about future behavior. However, it is important to note that correlation does not imply causation, \n",
    "and it is important to carefully interpret the results of any statistical analysis.\n",
    "\n",
    "covariance alone does not give us an idea of the strength or direction of the relationship between the variables. This is where correlation comes \n",
    "into play. Correlation is a standardized measure that indicates the strength and direction of the relationship between two variables. Correlation \n",
    "ranges from -1 to 1, where a correlation of -1 indicates a perfect negative relationship, a correlation of 0 indicates no relationship, and a\n",
    "correlation of 1 indicates a perfect positive relationship"
   ]
  },
  {
   "cell_type": "code",
   "execution_count": null,
   "id": "06b25e96-3459-4674-93d2-ef7d34fc8419",
   "metadata": {},
   "outputs": [],
   "source": [
    "Q11. What is the formula for calculating the sample mean? Provide an example calculation for a dataset.\n",
    "\n",
    "sample mean = (sum of all data points) / (number of data points)\n",
    "\n",
    "Example : {5, 10, 15, 20, 25}\n",
    "\n",
    "sample mean = (5+10+15+20+25)/5 = 75/5 = 15"
   ]
  },
  {
   "cell_type": "code",
   "execution_count": null,
   "id": "2024311f-631a-4089-9894-000edce9427a",
   "metadata": {},
   "outputs": [],
   "source": [
    "Q12. For a normal distribution data what is the relationship between its measure of central tendency?\n",
    "\n",
    "In a normal distribution, the mean is calculated by adding up all the data points and dividing by the total number of data points. The median is\n",
    "the value that falls in the middle of the distribution when the data points are arranged in ascending or descending order. The mode is the most\n",
    "frequently occurring value in the distribution.\n",
    "\n"
   ]
  },
  {
   "cell_type": "code",
   "execution_count": null,
   "id": "e9a351fc-35fa-451a-8865-df1aa2b28221",
   "metadata": {},
   "outputs": [],
   "source": [
    "Q13. How is covariance different from correlation?\n",
    "\n",
    "Definition: Covariance is a measure of how two variables change together. It measures the degree to which the variables move in the same direction \n",
    "(positive covariance) or in opposite directions (negative covariance). Correlation, on the other hand, measures the strength and direction of the\n",
    "relationship between two variables. It ranges from -1 to 1, with -1 indicating a perfect negative relationship, 0 indicating no relationship, and\n",
    "1 indicating a perfect positive relationship."
   ]
  },
  {
   "cell_type": "code",
   "execution_count": null,
   "id": "1f9c706b-aed7-4315-ab40-7c1148fc7e28",
   "metadata": {},
   "outputs": [],
   "source": []
  },
  {
   "cell_type": "code",
   "execution_count": null,
   "id": "a9010257-d3e1-40a8-b238-e8ddb1319588",
   "metadata": {},
   "outputs": [],
   "source": []
  },
  {
   "cell_type": "code",
   "execution_count": null,
   "id": "8cc84c23-0b7e-4557-b323-09b18f9ccb08",
   "metadata": {},
   "outputs": [],
   "source": []
  },
  {
   "cell_type": "code",
   "execution_count": null,
   "id": "0d3949bd-ecb0-4524-b33b-57a0ebd20f6a",
   "metadata": {},
   "outputs": [],
   "source": []
  },
  {
   "cell_type": "code",
   "execution_count": null,
   "id": "2b628456-240b-461e-b729-05898faac8a6",
   "metadata": {},
   "outputs": [],
   "source": []
  }
 ],
 "metadata": {
  "kernelspec": {
   "display_name": "Python 3 (ipykernel)",
   "language": "python",
   "name": "python3"
  },
  "language_info": {
   "codemirror_mode": {
    "name": "ipython",
    "version": 3
   },
   "file_extension": ".py",
   "mimetype": "text/x-python",
   "name": "python",
   "nbconvert_exporter": "python",
   "pygments_lexer": "ipython3",
   "version": "3.10.8"
  }
 },
 "nbformat": 4,
 "nbformat_minor": 5
}
