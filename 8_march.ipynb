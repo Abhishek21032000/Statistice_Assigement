{
 "cells": [
  {
   "cell_type": "code",
   "execution_count": null,
   "id": "44e58335-5c33-4cde-b790-c32e1107f4de",
   "metadata": {},
   "outputs": [],
   "source": [
    "Q1. What is the Probability density function?\n",
    "\n",
    "Distribution of a continuous random variable"
   ]
  },
  {
   "cell_type": "code",
   "execution_count": null,
   "id": "a2545397-b334-4d6e-a73b-e684eedc0024",
   "metadata": {},
   "outputs": [],
   "source": [
    "Q2. What are the types of Probability distribution?\n",
    "\n",
    "There are 6 types of PDF (i) Normal/Gaussian Surface Distribution (ii) Bernouli Distribution (iii) Uniform Distribution (iv) Binomial Distribution\n",
    "(v) Log Normal Distibution (vi) poision Distribution"
   ]
  },
  {
   "cell_type": "code",
   "execution_count": null,
   "id": "c023b131-64dd-408f-8548-b14b4e1e4b52",
   "metadata": {},
   "outputs": [],
   "source": [
    "Q3. Write a Python function to calculate the probability density function of a normal distribution with given mean and standard deviation at a\n",
    "given point."
   ]
  },
  {
   "cell_type": "code",
   "execution_count": null,
   "id": "6909ae01-32e3-4b5e-8f2d-28f8e69a8b08",
   "metadata": {},
   "outputs": [],
   "source": [
    "import math\n",
    "def normal_pdf(x,mean,std_dev):\n",
    "    coefficient = 1 / (std_dev*math.sqrt(2*math.pi))\n",
    "    exponent = -((x - mean) ** 2) / (2*(std_dev**2))\n",
    "    pdf = coefficient * math.exp(exponent)\n",
    "    return pdf"
   ]
  },
  {
   "cell_type": "code",
   "execution_count": null,
   "id": "37547273-ebde-435c-8d19-d37c94f78f7e",
   "metadata": {},
   "outputs": [],
   "source": [
    "mean = 0 \n",
    "std_dev = 1\n",
    "x = 1 \n",
    "\n",
    "pdf = normal_pdf(x,mean,std_dev)\n",
    "print(pdf)"
   ]
  },
  {
   "cell_type": "code",
   "execution_count": null,
   "id": "d9123489-ac4a-4667-9e01-884868e603ac",
   "metadata": {},
   "outputs": [],
   "source": [
    "Q4. What are the properties of Binomial distribution? Give two examples of events where binomial distribution can be applied.\n",
    "\n",
    "properties of binomial distribution The trials are independent. Each trial has only two possible outcomes, success or failure. The probability of \n",
    "success is constant for each trial. The number of trials is fixed. The random variable X, which represents the number of successes, follows a\n",
    "binomial distribution.\n",
    "\n",
    "Flipping a coin: Each flip is an independent trial with two possible outcomes (heads or tails), and assuming the coin is fair, the probability of\n",
    "success (getting heads) is 0.5 for each trial. The number of heads obtained in a fixed number of coin flips (e.g., 10 flips) follows a binomial\n",
    "distribution.\n",
    "\n",
    "Quality control in manufacturing: A manufacturer may randomly sample a fixed number of products from a production run and test them for defects.\n",
    "Each product can either pass or fail the test, and assuming the testing conditions are constant, the probability of passing is the same for each \n",
    "product. The number of products that pass the test in a fixed sample size follows a binomial distribution."
   ]
  },
  {
   "cell_type": "code",
   "execution_count": null,
   "id": "7e5904c8-58bb-4991-a2d4-c92c175bed73",
   "metadata": {},
   "outputs": [],
   "source": [
    "Q5. Generate a random sample of size 1000 from a binomial distribution with probability of success 0.4 and plot a histogram of the results using\n",
    "matplotlib."
   ]
  },
  {
   "cell_type": "code",
   "execution_count": 2,
   "id": "bb48c1ec-a4fc-4e0f-b1d9-3f71682807f9",
   "metadata": {},
   "outputs": [
    {
     "data": {
      "image/png": "[encoded data removed]",
      "text/plain": [
       "<Figure size 640x480 with 1 Axes>"
      ]
     },
     "metadata": {},
     "output_type": "display_data"
    }
   ],
   "source": [
    "import numpy as np\n",
    "import matplotlib.pyplot as plt\n",
    "n = 1000\n",
    "p = 0.4\n",
    "sample = np.random.binomial(n,p, size = 1000)\n",
    "plt.hist(sample, bins = 20, alpha = 0.5, edgecolor = 'black')\n",
    "plt.title('Binomial Distribution histogram')\n",
    "plt.xlabel('Number of Successes')\n",
    "plt.ylabel('Frequency')\n",
    "plt.show()"
   ]
  },
  {
   "cell_type": "code",
   "execution_count": null,
   "id": "b7fceab8-4ba4-4b09-ac29-cbb258fd379c",
   "metadata": {},
   "outputs": [],
   "source": [
    "Q6. Write a Python function to calculate the cumulative distribution function of a Poisson distribution with given mean at a given point."
   ]
  },
  {
   "cell_type": "code",
   "execution_count": null,
   "id": "05844c96-a2b7-48b3-ab26-1d04751cccc0",
   "metadata": {},
   "outputs": [],
   "source": [
    "import math\n",
    "\n",
    "def possion_cdf(x,mean):\n",
    "    cdf = 0 \n",
    "    for i in range(x+1):\n",
    "        cdf  = ((mean ** i) * math.exp(-mean)) / math.factorial(i)\n",
    "        return cdf"
   ]
  },
  {
   "cell_type": "code",
   "execution_count": null,
   "id": "97e35e9a-0153-42e4-93a6-78fd2a3a6011",
   "metadata": {},
   "outputs": [],
   "source": [
    "mean = 3\n",
    "x =2\n",
    "cdf = possion_cdf(x, mean)\n",
    "print(cdf)"
   ]
  },
  {
   "cell_type": "code",
   "execution_count": null,
   "id": "d56e2f11-a01e-4edb-b7b6-21699d0d447b",
   "metadata": {},
   "outputs": [],
   "source": [
    "Q7. How Binomial distribution different from Poisson distribution?\n",
    "\n",
    "The Binomial distribution is used to model the number of successes in a fixed number of independent trials, while the Poisson distribution is used\n",
    "to model the number of occurrences in a fixed interval of time or space"
   ]
  },
  {
   "cell_type": "code",
   "execution_count": null,
   "id": "ed24e0d1-a7ad-401c-a25d-a4d45ff023e0",
   "metadata": {},
   "outputs": [],
   "source": [
    "Q8. Generate a random sample of size 1000 from a Poisson distribution with mean 5 and calculate the sample mean and variance."
   ]
  },
  {
   "cell_type": "code",
   "execution_count": null,
   "id": "70b87f85-ea71-4bd2-86b9-14d2055dc1e5",
   "metadata": {},
   "outputs": [],
   "source": [
    "import numpy as np\n",
    "\n",
    "mean = 5\n",
    "\n",
    "sample = np.random.poisson(mean, size=1000)\n",
    "\n",
    "sample_mean = np.mean(sample)\n",
    "sample_var = np.var(sample, ddof=1)\n",
    "\n",
    "print(\"Sample mean:\", sample_mean)\n",
    "print(\"Sample variance:\", sample_var)"
   ]
  },
  {
   "cell_type": "code",
   "execution_count": null,
   "id": "04daf6e8-2cf7-44a7-a225-b702b3db58af",
   "metadata": {},
   "outputs": [],
   "source": [
    "Q9. How mean and variance are related in Binomial distribution and Poisson distribution?\n",
    "\n",
    "mean = n * p\n",
    "\n",
    "variance = n * p * (1 - p)\n",
    "\n",
    "where n is the number of trials and p is the probability of success for each trial.\n",
    "\n",
    "In the Poisson distribution, the mean (expected value) and variance are equal and are given by:\n",
    "\n",
    "mean = variance = λ\n",
    "\n",
    "where λ is the average rate of occurrences."
   ]
  },
  {
   "cell_type": "code",
   "execution_count": null,
   "id": "9989cb86-2729-4b1f-ad16-584e8d5987bc",
   "metadata": {},
   "outputs": [],
   "source": []
  },
  {
   "cell_type": "code",
   "execution_count": null,
   "id": "b96b81f4-1014-47bf-aa45-3c4814f917ea",
   "metadata": {},
   "outputs": [],
   "source": []
  },
  {
   "cell_type": "code",
   "execution_count": null,
   "id": "4af723bd-346e-4a0c-b1ae-e1c0e9b8679b",
   "metadata": {},
   "outputs": [],
   "source": []
  },
  {
   "cell_type": "code",
   "execution_count": null,
   "id": "ff486fcd-5ba4-45f3-b20a-d343489c453b",
   "metadata": {},
   "outputs": [],
   "source": []
  },
  {
   "cell_type": "code",
   "execution_count": null,
   "id": "abf178b3-1918-4ad8-8a1c-d42f3e4265be",
   "metadata": {},
   "outputs": [],
   "source": []
  },
  {
   "cell_type": "code",
   "execution_count": null,
   "id": "81662aaf-ccb1-4552-8c6b-89cee73f90af",
   "metadata": {},
   "outputs": [],
   "source": []
  },
  {
   "cell_type": "code",
   "execution_count": null,
   "id": "b8382268-3b8d-4bdc-bafa-93dd331b44ed",
   "metadata": {},
   "outputs": [],
   "source": []
  },
  {
   "cell_type": "code",
   "execution_count": null,
   "id": "34e2f8a9-dcfc-4189-97e4-360acd02c49d",
   "metadata": {},
   "outputs": [],
   "source": []
  },
  {
   "cell_type": "code",
   "execution_count": null,
   "id": "f695561e-9249-4fee-93f3-62cbf4f32590",
   "metadata": {},
   "outputs": [],
   "source": []
  },
  {
   "cell_type": "code",
   "execution_count": null,
   "id": "d72e80b3-21f2-4f32-871c-bc22ce0fe4be",
   "metadata": {},
   "outputs": [],
   "source": []
  },
  {
   "cell_type": "code",
   "execution_count": null,
   "id": "088db313-4a62-4459-8dfa-b7cf4adf8822",
   "metadata": {},
   "outputs": [],
   "source": []
  },
  {
   "cell_type": "code",
   "execution_count": null,
   "id": "79135d05-a363-4db5-a4e2-a5af3f7c4315",
   "metadata": {},
   "outputs": [],
   "source": []
  }
 ],
 "metadata": {
  "kernelspec": {
   "display_name": "Python 3 (ipykernel)",
   "language": "python",
   "name": "python3"
  },
  "language_info": {
   "codemirror_mode": {
    "name": "ipython",
    "version": 3
   },
   "file_extension": ".py",
   "mimetype": "text/x-python",
   "name": "python",
   "nbconvert_exporter": "python",
   "pygments_lexer": "ipython3",
   "version": "3.10.8"
  }
 },
 "nbformat": 4,
 "nbformat_minor": 5
}
