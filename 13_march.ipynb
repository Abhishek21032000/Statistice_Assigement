{
 "cells": [
  {
   "cell_type": "code",
   "execution_count": null,
   "id": "2a46f4fd-a29d-4ad4-b8d1-469a7ff02d67",
   "metadata": {},
   "outputs": [],
   "source": [
    "Q1. Explain the assumptions required to use ANOVA and provide examples of violations that could impact the validity of the results.\n",
    "=   ANOVA (Analysis of Variance) is a statistical method used to test the differences between two or more means.\n",
    "It assumes that the data meet certain assumptions to produce valid results.\n",
    "The three main assumptions of ANOVA are:\n",
    "    Independence\n",
    "The observations within each group are independent of each other.\n",
    "The value of one observation does not affect the value of another observation.\n",
    "    Normality\n",
    "The data within each group should follow a normal distribution.\n",
    "The data should be symmetric and bell-shaped.\n",
    "    Homogeneity of Variance\n",
    "The variances of each group should be equal.\n",
    "The spread of data within each group should be similar.\n",
    "    Absence of Outlier\n",
    "The outlying observations/data need to be removed from the dataset.\n",
    "Violations of these assumptions can lead to invalid results.\n",
    "For example:\n",
    "    Violation of Independence\n",
    "If the observations within each group are not independent, the results of ANOVA may be biased.\n",
    "For example, if measurements are taken on the same subject multiple times, the observations within that subject are not independent.\n",
    "    Violation of Normality\n",
    "If the data within each group do not follow a normal distribution, the results of ANOVA may be invalid.\n",
    "For example, if the data are skewed or have outliers, they may not follow a normal distribution.\n",
    "    Violation of Homogeneity of Variance\n",
    "If the variances of the groups are not equal, the results of ANOVA may be invalid.\n",
    "For example, if the variance of one group is much larger than the variance of another group, it may be difficult to detect significant differences \n",
    "between the groups.\n",
    "To check the assumptions of ANOVA, various diagnostic plots can be used, such as histograms, box plots, and Q-Q plots. If the assumptions are \n",
    "violated, alternative statistical methods may need to be used, such as non-parametric tests or transformations of the data."
   ]
  },
  {
   "cell_type": "code",
   "execution_count": null,
   "id": "109dbe77-1b5b-44be-9e24-6506b5fc2659",
   "metadata": {},
   "outputs": [],
   "source": [
    "Q2. What are the three types of ANOVA, and in what situations would each be used?\n",
    "=  ANOVA (Analysis of Variance) is a statistical technique used to compare the means of two or more groups.\n",
    "There are three types of ANOVA:\n",
    "    One-way ANOVA\n",
    "This is used when we have one independent variable (also called a factor) with three or more levels and one dependent variable. For example, if we \n",
    "want to compare the mean scores of three or more groups on a test, we would use a one-way ANOVA.\n",
    "    Two-way ANOVA\n",
    "This is used when we have two independent variables and one dependent variable. For example, if we want to examine the effect of two different types\n",
    "of treatment and two different levels of education on a particular outcome, we would use a two-way ANOVA.\n",
    "    Three-way ANOVA\n",
    "This is used when we have three independent variables and one dependent variable. For example, if we want to examine the effect of gender, age, and \n",
    "income on a particular outcome, we would use a three-way ANOVA.\n",
    "ANOVA is used when we want to compare the means of two or more groups and determine if there are significant differences between them.\n",
    "The choice of which type of ANOVA to use depends on the number of independent variables we have and the nature of the research question we are trying\n",
    "to answer."
   ]
  },
  {
   "cell_type": "code",
   "execution_count": null,
   "id": "e4a34228-8b74-4d9c-92b1-f62770b5ede8",
   "metadata": {},
   "outputs": [],
   "source": [
    "Q3. What is the partitioning of variance in ANOVA, and why is it important to understand this concept?\n",
    "The partitioning of variance in ANOVA (Analysis of Variance) refers to the decomposition of the total variance of a dataset into different sources\n",
    "of variation. ANOVA is a statistical method used to compare the means of three or more groups and determine if there are significant differences\n",
    "between them. Understanding the partitioning of variance is essential to interpret the results of ANOVA correctly.\n",
    "The total variance in ANOVA can be divided into two parts\n",
    "The variance between groups\n",
    "The variance between groups measures the differences in means between each group.\n",
    "The variance within groups\n",
    "The variance within groups measures the variation within each group.\n",
    "The partitioning of variance is important because it allows researchers to determine the proportion of the total variation that can be attributed to\n",
    "differences between groups versus differences within groups.\n",
    "This information is used to calculate the F-statistic, which is used to test the hypothesis that the means of the groups are equal.\n",
    "If the variance between groups is large relative to the variance within groups, then the F-statistic will be large, indicating that there are \n",
    "significant differences between the groups.\n",
    "If the variance within groups is large relative to the variance between groups, then the F-statistic will be small, indicating that there are no\n",
    "significant differences between the groups.\n",
    "Understanding the partitioning of variance in ANOVA is crucial because it provides information about the sources of variation in the data and helps\n",
    "researchers make informed decisions about whether there are significant differences between groups.\n"
   ]
  },
  {
   "cell_type": "code",
   "execution_count": null,
   "id": "0482ce11-3907-4ec4-805f-66158e48ef59",
   "metadata": {},
   "outputs": [],
   "source": [
    "Q4. How would we calculate the total sum of squares (SST), explained sum of squares (SSE), and residual sum of squares (SSR) in\n",
    "a one-way ANOVA using Python?\n",
    "To calculate the total sum of squares (SST), explained sum of squares (SSE), and residual sum of squares (SSR) in a one-way ANOVA using Python,\n",
    "we can use the statsmodels library, which provides a convenient interface to perform ANOVA analysis."
   ]
  },
  {
   "cell_type": "code",
   "execution_count": null,
   "id": "1db39245-e44f-40f9-b4fe-29ff3576eb85",
   "metadata": {},
   "outputs": [],
   "source": [
    "import pandas as pd\n",
    "import statsmodels.api as sm\n",
    "from statsmodels.formula.api import ols\n",
    "\n",
    "# load data\n",
    "data = pd.read_csv('data.csv')\n",
    "\n",
    "# fit one-way ANOVA model\n",
    "model = ols('response_variable ~ group_variable', data=data).fit()\n",
    "\n",
    "# calculate SST\n",
    "SST = sm.stats.anova_lm(model, typ=1)['sum_sq'][0]\n",
    "\n",
    "# calculate SSE\n",
    "SSE = sm.stats.anova_lm(model, typ=1)['sum_sq'][1]\n",
    "\n",
    "# calculate SSR\n",
    "SSR = SST - SSE\n",
    "\n",
    "# print the results\n",
    "print('SST:', SST)\n",
    "print('SSE:', SSE)\n",
    "print('SSR:', SSR)"
   ]
  },
  {
   "cell_type": "code",
   "execution_count": null,
   "id": "a623f2cb-ed08-4a4a-ab38-141ba6fd5ca5",
   "metadata": {},
   "outputs": [],
   "source": [
    "In this code, data.csv is the input dataset containing the response variable and the group variable. We first fit a one-way ANOVA model using the ols\n",
    "function from statsmodels. Then, we calculate the SST, SSE, and SSR using the sm.stats.anova_lm function, which performs ANOVA analysis and returns a\n",
    "table containing the sum of squares for each term in the model.\n",
    "The typ=1 argument in the anova_lm function specifies the type of sum of squares to use. typ=1 calculates the sums of squares using the method of\n",
    "least squares, which is the default method in ANOVA. Finally, we subtract the SSE from the SST to obtain the SSR.\n",
    "The input data must be in the correct format, with the response variable in one column and the group variable in another column.\n",
    "The code assumes that there are no missing values in the data."
   ]
  },
  {
   "cell_type": "code",
   "execution_count": null,
   "id": "766a529e-71eb-41f9-bb16-6924df1e8838",
   "metadata": {},
   "outputs": [],
   "source": [
    "Q5. In a two-way ANOVA, how would we calculate the main effects and interaction effects using Python?\n",
    "=    To calculate the main effects and interaction effects in a two-way ANOVA using Python, we can use the statsmodels library, which provides a\n",
    "convenient interface to perform ANOVA analysis."
   ]
  },
  {
   "cell_type": "code",
   "execution_count": null,
   "id": "476bb58d-2988-4e63-8003-169b5f2beb3d",
   "metadata": {},
   "outputs": [],
   "source": [
    "import pandas as pd\n",
    "import statsmodels.api as sm\n",
    "from statsmodels.formula.api import ols\n",
    "\n",
    "# load data\n",
    "data = pd.read_csv('data.csv')\n",
    "\n",
    "# fit two-way ANOVA model\n",
    "model = ols('response_variable ~ group_variable_1 + group_variable_2 + group_variable_1:group_variable_2', data=data).fit()\n",
    "\n",
    "# calculate main effects\n",
    "main_effect_1 = sm.stats.anova_lm(model, typ=2)['sum_sq']['group_variable_1']\n",
    "main_effect_2 = sm.stats.anova_lm(model, typ=2)['sum_sq']['group_variable_2']\n",
    "\n",
    "# calculate interaction effect\n",
    "interaction_effect = sm.stats.anova_lm(model, typ=2)['sum_sq']['group_variable_1:group_variable_2']\n",
    "\n",
    "# print the results\n",
    "print('Main effect 1:', main_effect_1)\n",
    "print('Main effect 2:', main_effect_2)\n",
    "print('Interaction effect:', interaction_effect)"
   ]
  },
  {
   "cell_type": "code",
   "execution_count": null,
   "id": "1764153f-aae6-4cc1-aac2-c775797aba2e",
   "metadata": {},
   "outputs": [],
   "source": [
    "In this code, data.csv is the input dataset containing the response variable, group_variable_1, and group_variable_2. We fit a two-way ANOVA model\n",
    "using the ols function from statsmodels, which includes the main effects of group_variable_1 and group_variable_2, as well as their interaction effect.\n",
    "To calculate the main effects, we use the sm.stats.anova_lm function with typ=2, which specifies the type of sum of squares to use. typ=2 calculates \n",
    "the sums of squares using the method of expected values. We extract the sum of squares for each main effect from the ANOVA table and assign them to\n",
    "main_effect_1 and main_effect_2.\n",
    "To calculate the interaction effect, we extract the sum of squares for the interaction term from the ANOVA table and assign it to interaction_effect.\n",
    "The input data must be in the correct format, with the response variable in one column and the group variable in another column.\n",
    "The code assumes that there are no missing values in the data."
   ]
  },
  {
   "cell_type": "code",
   "execution_count": null,
   "id": "90f32436-55d6-47a2-9b6d-f0dbdf2599aa",
   "metadata": {},
   "outputs": [],
   "source": [
    "Q6. Suppose we conducted a one-way ANOVA and obtained an F-statistic of 5.23 and a p-value of 0.02. What can we conclude about the differences \n",
    "between the groups, and how would we interpret these results?\n",
    "If we conducted a one-way ANOVA and obtained an F-statistic of 5.23 and a p-value of 0.02, we can conclude that there is a statistically significant\n",
    "difference between the groups. Specifically, we can conclude that at least one of the groups differs significantly from the others in terms of the\n",
    "mean value of the response variable.\n",
    "The F-statistic of 5.23 indicates the ratio of the variation between groups to the variation within groups. The larger the F-statistic, the more\n",
    "likely it is that there is a significant difference between the groups. The p-value of 0.02 indicates the probability of obtaining such an extreme\n",
    "F-statistic by chance alone, assuming that there is no true difference between the groups. Since the p-value is less than the typical significance \n",
    "level of 0.05, we can reject the null hypothesis that there is no difference between the groups and conclude that there is a significant difference\n",
    "between them.\n",
    "To interpret the results, we can perform a post-hoc analysis, such as a Tukey HSD test, to identify which groups differ significantly from each other.\n",
    "Additionally, we can calculate effect sizes, such as eta-squared or Cohen's d, to estimate the magnitude of the differences between the groups.\n",
    "Obtaining a significant F-statistic and p-value in a one-way ANOVA indicates that there is a significant difference between the groups in terms of \n",
    "the mean value of the response variable.\n",
    "Further analyses can be performed to identify which groups differ significantly and to estimate the magnitude of the differences."
   ]
  },
  {
   "cell_type": "code",
   "execution_count": null,
   "id": "c77e246e-7daa-4684-8da8-45873ea65c74",
   "metadata": {},
   "outputs": [],
   "source": [
    "Q7. In a repeated measures ANOVA, how would we handle missing data, and what are the potential consequences of using different methods to \n",
    "handle missing data?\n",
    "Handling missing data in a repeated measures ANOVA is important because missing data can introduce bias and reduce the power of the analysis. There \n",
    "are different methods to handle missing data in a repeated measures ANOVA, and the choice of method can affect the results and conclusions of the\n",
    "analysis.\n",
    "1st Approach : Use Listwise Deletion\n",
    "Any participant with missing data on any of the variables is excluded from the analysis.\n",
    "This approach is simple to implement, but it can reduce the sample size and potentially introduce bias if the missing data is related to the outcome\n",
    "variable or the other variables in the analysis.\n",
    "2nd Approach : Use Pairwise Deletion\n",
    "The available data for each participant is used for the analysis, even if some variables are missing for some participants.\n",
    "This approach retains more participants in the analysis but can introduce bias if the missing data is not missing at random.\n",
    "3rd Approach : Use Imputation Methods to estimate the missing values.\n",
    "Imputation methods can include mean imputation, regression imputation, and multiple imputation. Mean imputation involves replacing missing values\n",
    "with the mean of the available values, while regression imputation involves predicting the missing values based on the relationship with other\n",
    "variables in the analysis.\n",
    "Multiple imputation involves creating multiple imputed datasets and analyzing each dataset separately, then combining the results.\n",
    "The choice of method to handle missing data should depend on the characteristics of the missing data and the assumptions of the analysis.\\\n",
    "Imputation methods can be preferred if the missing data is missing at random and the assumptions of the analysis are met.\n",
    "Imputation methods can also introduce bias if the assumptions are not met or if the imputation model is misspecified.\n",
    "Conclusion\n",
    "Handling missing data in a repeated measures ANOVA is important to avoid bias and reduce the impact on the power of the analysis. There are different\n",
    "methods to handle missing data, and the choice of method should depend on the characteristics of the missing data and the assumptions of the analysis.\n",
    "Listwise deletion, pairwise deletion, and imputation methods are commonly used, and each has its advantages and disadvantages. Careful consideration\n",
    "of missing data is important to ensure the validity and accuracy of the analysis."
   ]
  },
  {
   "cell_type": "code",
   "execution_count": null,
   "id": "a4d0dc2a-51db-464f-9788-67638474db14",
   "metadata": {},
   "outputs": [],
   "source": [
    "Q8. What are some common post-hoc tests used after ANOVA, and when would we use each one? Provide an example of a situation where a \n",
    "post-hoc test might be necessary.\n",
    "Post-hoc tests are used after an ANOVA to determine which groups differ significantly from each other when the overall ANOVA result is significant.\n",
    "Some common post-hoc tests include:\n",
    "Tukey's Honestly Significant Difference (HSD) test:\n",
    "This test compares all possible pairs of means to determine which pairs differ significantly from each other. It is useful when there are multiple \n",
    "groups and we want to identify which groups are significantly different from each other.\n",
    "Bonferroni correction\n",
    "This test adjusts the p-value for multiple comparisons to control for the family-wise error rate. It is useful when we are comparing multiple groups,\n",
    "but we want to control the overall probability of making a type I error.\n",
    "Scheffe's test\n",
    "This test is a conservative post-hoc test that can be used when the sample sizes are unequal or the variances are not equal.\n",
    "It is useful when we want to compare multiple groups, but we are not confident in the assumptions of the ANOVA.\n",
    "Dunn's test\n",
    "This test is a non-parametric post-hoc test that can be used when the assumptions of ANOVA are not met, such as when the data are not normally\n",
    "distributed. It is useful when we want to compare multiple groups, but we cannot assume normality.\n",
    "A situation where a post-hoc test might be necessary is when we have conducted an ANOVA and found a significant result, indicating that at least\n",
    "one group differs significantly from the others.\n",
    "However, the ANOVA does not tell us which specific groups differ significantly from each other.\n",
    "In this case, we would use a post-hoc test to determine which groups differ significantly from each other.\n",
    "For example\n",
    "If we conducted an ANOVA on the effect of different fertilizers on crop yields and found a significant result, we would use a post-hoc test, such \n",
    "as Tukey's HSD, to determine which fertilizers result in significantly different crop yields."
   ]
  },
  {
   "cell_type": "code",
   "execution_count": null,
   "id": "3a36d43e-1a76-4b86-a5dd-069fea341c64",
   "metadata": {},
   "outputs": [],
   "source": [
    "Q9. A researcher wants to compare the mean weight loss of three diets: A, B, and C. They collect data from 50 participants who were randomly assigned\n",
    "to one of the diets. Conduct a one-way ANOVA using Python to determine if there are any significant differences between the mean weight loss of the \n",
    "three diets. Report the F-statistic and p-value, and interpret the results.\n",
    "=    To conduct a one-way ANOVA using Python to compare the mean weight loss of three diets A, B, and C, we can use the f_oneway() function from the\n",
    "scipy.stats module.\n",
    "Below is an example code:"
   ]
  },
  {
   "cell_type": "code",
   "execution_count": 3,
   "id": "d65aabf4-5cc8-4083-9d61-aaa858986913",
   "metadata": {},
   "outputs": [
    {
     "name": "stdout",
     "output_type": "stream",
     "text": [
      "F-statistic:  68.0129472265407\n",
      "p-value:  1.2263106300978192e-21\n"
     ]
    }
   ],
   "source": [
    "import numpy as np\n",
    "from scipy.stats import f_oneway\n",
    "\n",
    "# Generate random weight loss data for three diets\n",
    "np.random.seed(1)\n",
    "diet_a = np.random.normal(5, 1, 50)\n",
    "diet_b = np.random.normal(6, 1, 50)\n",
    "diet_c = np.random.normal(4, 1, 50)\n",
    "\n",
    "# Conduct one-way ANOVA\n",
    "f_stat, p_val = f_oneway(diet_a, diet_b, diet_c)\n",
    "\n",
    "# Print results\n",
    "print(\"F-statistic: \", f_stat)\n",
    "print(\"p-value: \", p_val)"
   ]
  },
  {
   "cell_type": "code",
   "execution_count": null,
   "id": "605f344d-57c2-470c-889d-917b9bf06730",
   "metadata": {},
   "outputs": [],
   "source": [
    "In this example, we generated random weight loss data for three diets A, B, and C, with sample sizes of 50 each.\n",
    "We then conducted a one-way ANOVA using the f_oneway() function, which takes the weight loss data for each diet as input.\n",
    "The function returns the F-statistic and p-value.\n",
    "The F-statistic is 68.01 and the p-value is 1.23e-21, which is less than the commonly used threshold of 0.05.\n",
    "This indicates that there is a significant difference between the mean weight loss of the three diets.\n",
    "We can reject the null hypothesis that there is no difference between the diets and conclude that at least one of the diets has a different mean\n",
    "weight loss from the others.\n",
    "However, we would need to conduct post-hoc tests, such as Tukey's HSD, to determine which specific diets differ significantly from each other."
   ]
  },
  {
   "cell_type": "code",
   "execution_count": null,
   "id": "ec1e78f0-e1af-4a93-afc6-4ac7bd950f22",
   "metadata": {},
   "outputs": [],
   "source": [
    "Q10. A company wants to know if there are any significant differences in the average time it takes to complete a task using three different software\n",
    "programs: Program A, Program B, and Program C. They randomly assign 30 employees to one of the programs and record the time it takes each employee \n",
    "to complete the task. Conduct a two-way ANOVA using Python to determine if there are any main effects or interaction effects between the software\n",
    "programs and employee experience level (novice vs. experienced). Report the F-statistics and p-values, and interpret the results.\n",
    "To conduct a two-way ANOVA using Python to compare the average time it takes to complete a task using three different software programs and\n",
    "considering employee experience level as a factor, we can use the statsmodels package.\n",
    "Below is an example code:"
   ]
  },
  {
   "cell_type": "code",
   "execution_count": 4,
   "id": "de01871f-90ad-45ca-b7d8-61616e0299a4",
   "metadata": {},
   "outputs": [
    {
     "name": "stdout",
     "output_type": "stream",
     "text": [
      "                              sum_sq    df         F    PR(>F)\n",
      "C(program)                  1.181428   2.0  0.171062  0.843224\n",
      "C(experience)               1.118041   1.0  0.323769  0.571711\n",
      "C(program):C(experience)   17.222352   2.0  2.493673  0.092075\n",
      "Residual                  186.473318  54.0       NaN       NaN\n"
     ]
    }
   ],
   "source": [
    "import pandas as pd\n",
    "import statsmodels.api as sm\n",
    "from statsmodels.formula.api import ols\n",
    "\n",
    "# Generate random time data for three programs and two experience levels\n",
    "np.random.seed(1)\n",
    "data = {'program': ['A', 'B', 'C'] * 20,\n",
    "        'experience': ['novice']*30 + ['experienced']*30,\n",
    "        'time': np.random.normal(10, 2, 60)}\n",
    "df = pd.DataFrame(data)\n",
    "\n",
    "# Conduct two-way ANOVA\n",
    "model = ols('time ~ C(program) + C(experience) + C(program):C(experience)', data=df).fit()\n",
    "table = sm.stats.anova_lm(model, typ=2)\n",
    "\n",
    "# Print results\n",
    "print(table)"
   ]
  },
  {
   "cell_type": "code",
   "execution_count": null,
   "id": "e50b2831-dede-4c1a-95c9-58621e3876d7",
   "metadata": {},
   "outputs": [],
   "source": [
    "In the above example, we generated random time data for three software programs and two experience levels, with 30 employees randomly \n",
    "assigned to each program.\n",
    "We then conducted a two-way ANOVA using the ols() function from statsmodels.formula.api and the anova_lm() function from statsmodels.api.\n",
    "The ols() function specifies a linear model formula that includes the main effects of software program and experience level, as well as their \n",
    "interaction effect.\n",
    "The anova_lm() function calculates the ANOVA table for the linear model and returns the F-statistics and p-values.\n",
    "The ANOVA table shows the sum of squares (SS), degrees of freedom (df), F-statistics, and p-values for the main effects of software program and \n",
    "experience level, as well as their interaction effect.\n",
    "The main effect of software program has an F-statistic of 0.17 and a p-value of 0.84, which is not significant at the commonly used threshold of 0.05.\n",
    "This indicates that there is no significant difference in the average task completion time between the three programs.\n",
    "The main effect of experience level has an F-statistic of 0.32 and a p-value of 0.57, which is not significant.\n",
    "This indicates that there is no significant difference in the average task completion time between novice and experienced employees.\n",
    "The interaction effect between software program and experience level has an F-statistic of 2.49 and a p-value of 0.09, which is significant.\n",
    "This indicates that there is a significant interaction effect between the two factors.\n",
    "The results suggest that there is a significant main effect of experience level on task completion time, but no significant main effect of software\n",
    "program or interaction effect between software program and experience level."
   ]
  },
  {
   "cell_type": "code",
   "execution_count": null,
   "id": "cbc10bfd-2307-428d-9ef7-4a029da184ee",
   "metadata": {},
   "outputs": [],
   "source": [
    "Q11. An educational researcher is interested in whether a new teaching method improves student test scores. They randomly assign 100 students to\n",
    "either the control group (traditional teaching method) or the experimental group (new teaching method) and administer a test at the end of the\n",
    "semester. Conduct a two-sample t-test using Python to determine if there are any significant differences in test scores between the two groups. If\n",
    "the results are significant, follow up with a post-hoc test to determine which group(s) differ significantly from each other."
   ]
  },
  {
   "cell_type": "code",
   "execution_count": 5,
   "id": "51dd5ea0-b1fe-45f1-af94-83472b95b2ce",
   "metadata": {},
   "outputs": [
    {
     "name": "stdout",
     "output_type": "stream",
     "text": [
      "t-statistic: 0.3708582163292531\n",
      "p-value: 0.7123748921879114\n",
      "   Multiple Comparison of Means - Tukey HSD, FWER=0.05    \n",
      "==========================================================\n",
      " group1    group2    meandiff p-adj   lower  upper  reject\n",
      "----------------------------------------------------------\n",
      "control experimental     -0.8 0.7124 -5.1373 3.5373  False\n",
      "----------------------------------------------------------\n"
     ]
    }
   ],
   "source": [
    "# a two-sample t-test and post-hoc\n",
    "import pandas as pd\n",
    "from scipy import stats\n",
    "from statsmodels.stats.multicomp import pairwise_tukeyhsd\n",
    "\n",
    "# Create a data frame with test scores and group assignments\n",
    "data = pd.DataFrame({\n",
    "    'test_scores': [85, 70, 75, 80, 90, 65, 70, 75, 95, 80, \n",
    "                    70, 75, 80, 85, 90, 95, 80, 75, 85, 70, \n",
    "                    85, 75, 80, 90, 70, 75, 85, 80, 90, 75,\n",
    "                    70, 80, 75, 85, 90, 80, 75, 70, 85, 90,\n",
    "                    75, 80, 85, 90, 75, 70, 80, 85, 90, 75],\n",
    "    'group': ['experimental']*25 + ['control']*25\n",
    "})\n",
    "\n",
    "# Compute the t-test\n",
    "control = data.loc[data['group'] == 'control', 'test_scores']\n",
    "experimental = data.loc[data['group'] == 'experimental', 'test_scores']\n",
    "t_stat, p_val = stats.ttest_ind(control, experimental)\n",
    "print(\"t-statistic:\", t_stat)\n",
    "print(\"p-value:\", p_val)\n",
    "\n",
    "# Compute the post-hoc test\n",
    "tukey_result = pairwise_tukeyhsd(data['test_scores'], data['group'])\n",
    "print(tukey_result)"
   ]
  },
  {
   "cell_type": "code",
   "execution_count": null,
   "id": "768fcfc1-0739-4429-bfc0-3b6deece6db6",
   "metadata": {},
   "outputs": [],
   "source": [
    "Q12. A researcher wants to know if there are any significant differences in the average daily sales of three retail stores: Store A, Store B, and\n",
    "Store C. They randomly select 30 days and record the sales for each store on those days. Conduct a repeated measures ANOVA using Python to determine\n",
    "if there are any significant differences in sales between the three stores. If the results are significant, follow up with a post-hoc test to \n",
    "determine which store(s) differ significantly from each other.\n",
    "    Since this is a repeated measures ANOVA, we need to reshape the data so that each row represents a single observation, with columns for the \n",
    "subject ID, the store, and the sales on each of the 30 days.\n",
    "We can then use the statsmodels library to conduct the repeated measures ANOVA and the pingouin library to perform a post-hoc test."
   ]
  },
  {
   "cell_type": "code",
   "execution_count": null,
   "id": "c4e3a1ff-4935-4cf9-918d-4463f707f8d3",
   "metadata": {},
   "outputs": [],
   "source": [
    "import pandas as pd\n",
    "import pingouin as pg\n",
    "import statsmodels.api as sm\n",
    "from statsmodels.stats.anova import AnovaRM\n",
    "\n",
    "# create a sample dataset\n",
    "data = pd.DataFrame({\n",
    "    'subject': ['s%d' % (i//30+1) for i in range(90)],\n",
    "    'store': ['A', 'B', 'C'] * 30,\n",
    "    'sales': np.random.randint(100, 1000, 90)\n",
    "})\n",
    "\n",
    "# reshape the data\n",
    "data_wide = data.pivot(index='subject', columns='store', values='sales')\n",
    "\n",
    "# create a model using AnovaRM\n",
    "model = AnovaRM(data_wide, 'sales', 'subject', within=['store'])\n",
    "results = model.fit()\n",
    "\n",
    "# print the ANOVA table\n",
    "print(results.anova_table)\n",
    "\n",
    "# perform post-hoc test using pairwise_tukey\n",
    "posthoc = pg.pairwise_tukey(data, dv='sales', between='store', subject='subject')\n",
    "print(posthoc)"
   ]
  },
  {
   "cell_type": "code",
   "execution_count": null,
   "id": "b559f573-fec3-4ca9-9b2f-eb68acbb331c",
   "metadata": {},
   "outputs": [],
   "source": [
    "The above code will output the ANOVA table and the results of the post-hoc test. If the ANOVA is significant, the post-hoc test can be used to\n",
    "determine which store(s) have significantly different sales."
   ]
  },
  {
   "cell_type": "code",
   "execution_count": null,
   "id": "d94b7180-2055-40a3-9307-ca3e459bdc33",
   "metadata": {},
   "outputs": [],
   "source": []
  },
  {
   "cell_type": "code",
   "execution_count": null,
   "id": "9e502006-f994-4c01-be1f-0699107cc439",
   "metadata": {},
   "outputs": [],
   "source": []
  },
  {
   "cell_type": "code",
   "execution_count": null,
   "id": "c9abdffb-e95c-43b5-bc55-95d40aa10d13",
   "metadata": {},
   "outputs": [],
   "source": []
  },
  {
   "cell_type": "code",
   "execution_count": null,
   "id": "267b4d41-d9a8-482f-9c9e-49ccfe252cca",
   "metadata": {},
   "outputs": [],
   "source": []
  },
  {
   "cell_type": "code",
   "execution_count": null,
   "id": "9d52241f-3b12-455c-9244-149a96d34ac5",
   "metadata": {},
   "outputs": [],
   "source": []
  },
  {
   "cell_type": "code",
   "execution_count": null,
   "id": "e75f5957-9996-4433-9b05-13788d32c44c",
   "metadata": {},
   "outputs": [],
   "source": []
  },
  {
   "cell_type": "code",
   "execution_count": null,
   "id": "4d51bff1-0b44-4c63-b4aa-f29e7672b5fa",
   "metadata": {},
   "outputs": [],
   "source": []
  }
 ],
 "metadata": {
  "kernelspec": {
   "display_name": "Python 3 (ipykernel)",
   "language": "python",
   "name": "python3"
  },
  "language_info": {
   "codemirror_mode": {
    "name": "ipython",
    "version": 3
   },
   "file_extension": ".py",
   "mimetype": "text/x-python",
   "name": "python",
   "nbconvert_exporter": "python",
   "pygments_lexer": "ipython3",
   "version": "3.10.8"
  }
 },
 "nbformat": 4,
 "nbformat_minor": 5
}
